{
 "metadata": {
  "language_info": {
   "codemirror_mode": {
    "name": "ipython",
    "version": 3
   },
   "file_extension": ".py",
   "mimetype": "text/x-python",
   "name": "python",
   "nbconvert_exporter": "python",
   "pygments_lexer": "ipython3",
   "version": "3.8.5-final"
  },
  "orig_nbformat": 2,
  "kernelspec": {
   "name": "python3",
   "display_name": "Python 3"
  }
 },
 "nbformat": 4,
 "nbformat_minor": 2,
 "cells": [
  {
   "source": [
    "* Archivo: 006_random_forest_basico_1.ibynb\n",
    "* Resumen: el script realiza un ejercicio de clasificación mediante el algoritmo de random forest. Se busca estudiar dicho método de clasificación.\n",
    "* Fecha creación: 20201121\n",
    "* Fecha última actualización: 20201121\n",
    "* Autor: Gonzalo Plaza"
   ],
   "cell_type": "markdown",
   "metadata": {}
  },
  {
   "cell_type": "code",
   "execution_count": 46,
   "metadata": {},
   "outputs": [],
   "source": [
    "# importación de librerías \n",
    "import numpy as np\n",
    "import pandas as pd\n",
    "\n",
    "from sklearn import impute\n",
    "from sklearn import model_selection\n",
    "\n",
    "from sklearn.ensemble import RandomForestClassifier\n",
    "from sklearn import metrics\n",
    "\n",
    "# carga de datos\n",
    "df = pd.read_csv('../data/raw/train.csv')\n",
    "df_predict = pd.read_csv('../data/raw/test.csv')\n",
    "\n",
    "df['tipo'] = 'df'\n",
    "df_predict['tipo'] = 'df_predict'\n",
    "dfw = df.append(df_predict)\n",
    "\n",
    "# parametros \n",
    "p_features = ['Pclass','Sex','Age','SibSp','Parch','Fare','Embarked']\n",
    "p_target = \"Survived\"\n",
    "\n",
    "# columna Sex\n",
    "dfw['Sex'][dfw['Sex'] == 'female'] = 0\n",
    "dfw['Sex'][dfw['Sex'] == 'male'] = 1\n",
    "\n",
    "# columna Age\n",
    "imputador_mean = impute.SimpleImputer(missing_values=np.NaN, strategy='mean')\n",
    "imputador_mean.fit(dfw[['Fare','Age']])\n",
    "dfw['Age'] = imputador_mean.transform(dfw[['Fare','Age']])[:,1]\n",
    "dfw['Fare'] = imputador_mean.transform(dfw[['Fare','Age']])[:,0]\n",
    "\n",
    "# column embarked\n",
    "dfw['Embarked'][dfw['Embarked'] == 'S'] = 1\n",
    "dfw['Embarked'][dfw['Embarked'] == 'C'] = 2\n",
    "dfw['Embarked'][dfw['Embarked'] == 'Q'] = 3\n",
    "\n",
    "imputador_freq = impute.SimpleImputer(missing_values=np.NaN, strategy='most_frequent')\n",
    "imputador_freq.fit(dfw[['Sex','Embarked']])\n",
    "dfw['Embarked'] = imputador_freq.transform(dfw[['Sex','Embarked']])[:,1]\n",
    "\n",
    "# construcción training testing\n",
    "X = dfw.loc[dfw['tipo'] == \"df\", p_features]\n",
    "y = dfw.loc[dfw['tipo'] == \"df\", p_target]\n",
    "X_train, X_test, y_train, y_test = model_selection.train_test_split(X, y, test_size = 0.3, random_state = 1)\n"
   ]
  },
  {
   "cell_type": "code",
   "execution_count": 47,
   "metadata": {},
   "outputs": [],
   "source": [
    "# entrenamiento del modelo\n",
    "modelo_1 = RandomForestClassifier(random_state=1)\n",
    "modelo_1.fit(X_train, y_train)\n",
    "y_pred_1 = modelo_1.predict(X_test).astype(int)\n",
    "y_pred_1_b = modelo_1.predict_proba(X_test)\n"
   ]
  },
  {
   "cell_type": "code",
   "execution_count": 49,
   "metadata": {},
   "outputs": [],
   "source": [
    "# Accuracy\n",
    "pred_1_metric = metrics.accuracy_score(y_test, y_pred_1)\n",
    "# entropia cruzada\n",
    "pred_1_metric_b = metrics.log_loss(y_test, y_pred_1_b)\n",
    "# AUC\n",
    "pred_1_metric_c = metrics.roc_auc_score(y_test, y_pred_1_b[:,-1])"
   ]
  },
  {
   "cell_type": "code",
   "execution_count": 50,
   "metadata": {},
   "outputs": [],
   "source": [
    "# tabla de supervivencia\n",
    "pred_1_metric_d = pd.crosstab(pd.cut(y_pred_1_b[:,-1],np.array(list(range(1,11,1)))/10), y_test)"
   ]
  },
  {
   "cell_type": "code",
   "execution_count": 52,
   "metadata": {},
   "outputs": [],
   "source": [
    "# construcción modelo producción y salida\n",
    "X_predict = dfw.loc[dfw['tipo'] == \"df_predict\", p_features]\n",
    "\n",
    "modelo_final = RandomForestClassifier(random_state=1)\n",
    "modelo_final = modelo_final.fit(X,y)\n",
    "y_pred_final = modelo_final.predict(X_predict)\n",
    "\n",
    "df_predict['Survived'] = y_pred_final\n",
    "df_final = df_predict[['PassengerId', 'Survived']]\n",
    "df_final['Survived'] = df_final['Survived'].astype(int)\n",
    "df_final.to_csv('../output/006_random_forest_basico_1.csv', index=False)"
   ]
  },
  {
   "cell_type": "code",
   "execution_count": null,
   "metadata": {},
   "outputs": [],
   "source": []
  }
 ]
}