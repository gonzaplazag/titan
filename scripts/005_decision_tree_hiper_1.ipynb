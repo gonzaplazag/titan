{
 "metadata": {
  "language_info": {
   "codemirror_mode": {
    "name": "ipython",
    "version": 3
   },
   "file_extension": ".py",
   "mimetype": "text/x-python",
   "name": "python",
   "nbconvert_exporter": "python",
   "pygments_lexer": "ipython3",
   "version": 3
  },
  "orig_nbformat": 2
 },
 "nbformat": 4,
 "nbformat_minor": 2,
 "cells": [
  {
   "source": [
    "skelearn.tree.DecisionTreeClassifier()\n",
    "\n",
    "params:\n",
    "\n",
    "1. criterion = {'gini*', 'entropy'}: The function to measure the quality of the split.\n",
    "2. splitter = {'best*', 'random'}: The strategy used to choose the split at each node.\n",
    "3. max_depth = {int}, (default = None): The maximum depth of the tree.\n"
   ],
   "cell_type": "markdown",
   "metadata": {}
  }
 ]
}