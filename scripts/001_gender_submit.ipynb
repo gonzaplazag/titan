{
 "metadata": {
  "language_info": {
   "codemirror_mode": {
    "name": "ipython",
    "version": 3
   },
   "file_extension": ".py",
   "mimetype": "text/x-python",
   "name": "python",
   "nbconvert_exporter": "python",
   "pygments_lexer": "ipython3",
   "version": "3.8.5-final"
  },
  "orig_nbformat": 2,
  "kernelspec": {
   "name": "python3",
   "display_name": "Python 3.8.5 64-bit ('genv': conda)",
   "metadata": {
    "interpreter": {
     "hash": "8e1dfd62405ffc0ae744b7fa6bbf742db0dfdea56428f3c9da6c8a3c3b07c377"
    }
   }
  }
 },
 "nbformat": 4,
 "nbformat_minor": 2,
 "cells": [
  {
   "source": [
    "# Importacion librerías\n",
    "import pandas as pd\n",
    "import numpy as np"
   ],
   "cell_type": "code",
   "metadata": {},
   "execution_count": 1,
   "outputs": []
  },
  {
   "cell_type": "code",
   "execution_count": 2,
   "metadata": {},
   "outputs": [],
   "source": [
    "# carga de datos\n",
    "df = pd.read_csv('../data/raw/train.csv')\n",
    "df_predict = pd.read_csv('../data/raw/test.csv')"
   ]
  },
  {
   "cell_type": "code",
   "execution_count": 3,
   "metadata": {},
   "outputs": [],
   "source": [
    "# procesamiento\n",
    "df_predict['Survived'] = 0\n",
    "df_predict['Survived'][df_predict['Sex'] == 'female'] = 1\n",
    "\n",
    "df_final = df_predict[['PassengerId', 'Survived']]"
   ]
  },
  {
   "cell_type": "code",
   "execution_count": 4,
   "metadata": {},
   "outputs": [],
   "source": [
    "# output\n",
    "df_final.to_csv('../output/20201026_001_gender_submit.csv', index = False)"
   ]
  }
 ]
}