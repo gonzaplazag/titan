{
 "metadata": {
  "language_info": {
   "codemirror_mode": {
    "name": "ipython",
    "version": 3
   },
   "file_extension": ".py",
   "mimetype": "text/x-python",
   "name": "python",
   "nbconvert_exporter": "python",
   "pygments_lexer": "ipython3",
   "version": "3.8.5-final"
  },
  "orig_nbformat": 2,
  "kernelspec": {
   "name": "python3",
   "display_name": "Python 3"
  }
 },
 "nbformat": 4,
 "nbformat_minor": 2,
 "cells": [
  {
   "cell_type": "code",
   "execution_count": 62,
   "metadata": {},
   "outputs": [],
   "source": [
    "# Importación de librearías\n",
    "import pandas as pd\n",
    "import numpy as np\n",
    "\n",
    "from sklearn import impute\n",
    "from sklearn import tree\n",
    "from sklearn import model_selection\n",
    "from sklearn import metrics\n",
    "\n",
    "import graphviz"
   ]
  },
  {
   "cell_type": "code",
   "execution_count": 63,
   "metadata": {},
   "outputs": [],
   "source": [
    "# carga de datos\n",
    "df = pd.read_csv('../data/raw/train.csv')\n",
    "df_predict = pd.read_csv('../data/raw/test.csv')\n",
    "\n",
    "df['tipo'] = \"df\"\n",
    "df_predict['tipo'] = \"df_predict\"\n",
    "dfw = df.append(df_predict)"
   ]
  },
  {
   "cell_type": "code",
   "execution_count": 64,
   "metadata": {},
   "outputs": [],
   "source": [
    "# parametros \n",
    "p_features = ['Pclass','Sex','Age','SibSp','Parch','Fare','Embarked']\n",
    "p_target = \"Survived\""
   ]
  },
  {
   "cell_type": "code",
   "execution_count": 65,
   "metadata": {},
   "outputs": [],
   "source": [
    "# columna Sex\n",
    "dfw['Sex'][dfw['Sex'] == 'female'] = 0\n",
    "dfw['Sex'][dfw['Sex'] == 'male'] = 1\n",
    "\n",
    "# columna Age\n",
    "imputador_mean = impute.SimpleImputer(missing_values=np.NaN, strategy='mean')\n",
    "imputador_mean.fit(dfw[['Fare','Age']])\n",
    "dfw['Age'] = imputador_mean.transform(dfw[['Fare','Age']])[:,1]\n",
    "dfw['Fare'] = imputador_mean.transform(dfw[['Fare','Age']])[:,0]\n",
    "\n",
    "# column embarked\n",
    "dfw['Embarked'][dfw['Embarked'] == 'S'] = 1\n",
    "dfw['Embarked'][dfw['Embarked'] == 'C'] = 2\n",
    "dfw['Embarked'][dfw['Embarked'] == 'Q'] = 3\n",
    "\n",
    "imputador_freq = impute.SimpleImputer(missing_values=np.NaN, strategy='most_frequent')\n",
    "imputador_freq.fit(dfw[['Sex','Embarked']])\n",
    "dfw['Embarked'] = imputador_freq.transform(dfw[['Sex','Embarked']])[:,1]"
   ]
  },
  {
   "cell_type": "code",
   "execution_count": 66,
   "metadata": {},
   "outputs": [
    {
     "output_type": "execute_result",
     "data": {
      "text/plain": [
       "array([[129,  24],\n",
       "       [ 41,  74]])"
      ]
     },
     "metadata": {},
     "execution_count": 66
    }
   ],
   "source": [
    "# construcción training testing\n",
    "X = dfw.loc[dfw['tipo'] == \"df\", p_features]\n",
    "y = dfw.loc[dfw['tipo'] == \"df\", p_target]\n",
    "X_train, X_test, y_train, y_test = model_selection.train_test_split(X, y, test_size = 0.3, random_state = 1)\n",
    "\n",
    "modelo_1 = tree.DecisionTreeClassifier(random_state = 1)\n",
    "modelo_1 = modelo_1.fit(X_train, y_train)\n",
    "y_pred_1 = modelo_1.predict(X_test)\n",
    "acc_modelo_1 = metrics.accuracy_score(y_test, y_pred_1)\n",
    "metrics.confusion_matrix(y_test, y_pred_1)"
   ]
  },
  {
   "cell_type": "code",
   "execution_count": 67,
   "metadata": {},
   "outputs": [
    {
     "output_type": "execute_result",
     "data": {
      "text/plain": [
       "'../work/004_decision_tree_basic_2_modelo_a.pdf'"
      ]
     },
     "metadata": {},
     "execution_count": 67
    }
   ],
   "source": [
    "# Evaluación del modelo: visualización de arbol de decisión\n",
    "aux = tree.export_graphviz(modelo_1, out_file=None, filled = True, rounded=True, feature_names=p_features)\n",
    "graf = graphviz.Source(aux)\n",
    "graf.render('../work/004_decision_tree_basic_2_modelo_a') # exportación a pdf"
   ]
  },
  {
   "cell_type": "code",
   "execution_count": 68,
   "metadata": {},
   "outputs": [],
   "source": [
    "# generación modelo kaggle\n",
    "X_predict = dfw.loc[dfw['tipo'] == \"df_predict\", p_features]\n",
    "\n",
    "modelo_final = tree.DecisionTreeClassifier(random_state=1)\n",
    "modelo_final = modelo_final.fit(X,y)\n",
    "y_pred_final = modelo_final.predict(X_predict)\n",
    "\n",
    "df_predict['Survived'] = y_pred_final\n",
    "df_final = df_predict[['PassengerId', 'Survived']]\n",
    "df_final['Survived'] = df_final['Survived'].astype(int)\n",
    "df_final.to_csv('../output/004_decision_tree_basico_a.csv', index=False)"
   ]
  },
  {
   "cell_type": "code",
   "execution_count": 34,
   "metadata": {},
   "outputs": [
    {
     "output_type": "execute_result",
     "data": {
      "text/plain": [
       "array([0, 1])"
      ]
     },
     "metadata": {},
     "execution_count": 34
    }
   ],
   "source": []
  }
 ]
}